{
 "cells": [
  {
   "cell_type": "code",
   "execution_count": 2,
   "metadata": {},
   "outputs": [
    {
     "name": "stdout",
     "output_type": "stream",
     "text": [
      "WordNet resources downloaded.\n"
     ]
    },
    {
     "name": "stderr",
     "output_type": "stream",
     "text": [
      "[nltk_data] Downloading package wordnet to /home/kali/nltk_data...\n",
      "[nltk_data]   Package wordnet is already up-to-date!\n",
      "[nltk_data] Downloading package omw-1.4 to /home/kali/nltk_data...\n",
      "[nltk_data]   Package omw-1.4 is already up-to-date!\n"
     ]
    }
   ],
   "source": [
    "import nltk\n",
    "\n",
    "# Download the necessary WordNet data\n",
    "nltk.download('wordnet')\n",
    "nltk.download('omw-1.4')\n",
    "\n",
    "print(\"WordNet resources downloaded.\")"
   ]
  },
  {
   "cell_type": "code",
   "execution_count": 3,
   "metadata": {},
   "outputs": [
    {
     "name": "stdout",
     "output_type": "stream",
     "text": [
      "Word: dog\n",
      "Sense: dog.n.01\n",
      "Definition: a member of the genus Canis (probably descended from the common wolf) that has been domesticated by man since prehistoric times; occurs in many breeds\n",
      "Synonyms: ['dog', 'domestic_dog', 'Canis_familiaris']\n",
      "Hypernyms: ['domestic_animal.n.01', 'canine.n.02']\n",
      "Hyponyms (first 5): ['leonberg.n.01', 'newfoundland.n.01', 'poodle.n.01', 'pug.n.01', 'corgi.n.01']\n"
     ]
    }
   ],
   "source": [
    "from nltk.corpus import wordnet as wn\n",
    "\n",
    "# Choose a word and get its noun synsets\n",
    "word = \"dog\"\n",
    "synsets = wn.synsets(word, pos=wn.NOUN)\n",
    "\n",
    "if synsets:\n",
    "    # For simplicity, use the first synset (most common sense)\n",
    "    syn = synsets[0]\n",
    "    print(\"Word:\", word)\n",
    "    print(\"Sense:\", syn.name())\n",
    "    print(\"Definition:\", syn.definition())\n",
    "    print(\"Synonyms:\", syn.lemma_names())\n",
    "    print(\"Hypernyms:\", [h.name() for h in syn.hypernyms()])\n",
    "    print(\"Hyponyms (first 5):\", [h.name() for h in syn.hyponyms()][:5])\n",
    "else:\n",
    "    print(\"No synsets found for\", word)"
   ]
  },
  {
   "cell_type": "code",
   "execution_count": 4,
   "metadata": {},
   "outputs": [
    {
     "name": "stdout",
     "output_type": "stream",
     "text": [
      "\n",
      "Word: cat\n",
      "Sense: cat.n.01\n",
      "Definition: feline mammal usually having thick soft fur and no ability to roar: domestic cats; wildcats\n",
      "Synonyms: ['cat', 'true_cat']\n",
      "Hypernyms: ['feline.n.01']\n",
      "Hyponyms (first 5): ['domestic_cat.n.01', 'wildcat.n.03']\n"
     ]
    }
   ],
   "source": [
    "word = \"cat\"\n",
    "synsets = wn.synsets(word, pos=wn.NOUN)\n",
    "\n",
    "if synsets:\n",
    "    syn = synsets[0]\n",
    "    print(\"\\nWord:\", word)\n",
    "    print(\"Sense:\", syn.name())\n",
    "    print(\"Definition:\", syn.definition())\n",
    "    print(\"Synonyms:\", syn.lemma_names())\n",
    "    print(\"Hypernyms:\", [h.name() for h in syn.hypernyms()])\n",
    "    print(\"Hyponyms (first 5):\", [h.name() for h in syn.hyponyms()][:5])\n",
    "else:\n",
    "    print(\"No synsets found for\", word)"
   ]
  },
  {
   "cell_type": "code",
   "execution_count": null,
   "metadata": {},
   "outputs": [],
   "source": []
  }
 ],
 "metadata": {
  "kernelspec": {
   "display_name": ".venv",
   "language": "python",
   "name": "python3"
  },
  "language_info": {
   "codemirror_mode": {
    "name": "ipython",
    "version": 3
   },
   "file_extension": ".py",
   "mimetype": "text/x-python",
   "name": "python",
   "nbconvert_exporter": "python",
   "pygments_lexer": "ipython3",
   "version": "3.10.11"
  }
 },
 "nbformat": 4,
 "nbformat_minor": 2
}
